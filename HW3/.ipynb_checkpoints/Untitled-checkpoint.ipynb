{
 "cells": [
  {
   "cell_type": "markdown",
   "metadata": {},
   "source": [
    "# IE423 Project Part 3\n",
    "## Group 5\n",
    "#### Code : [Link](https://bu-ie-582.github.io/IE423-Group-5/HW3/HW3.html)"
   ]
  },
  {
   "cell_type": "markdown",
   "metadata": {},
   "source": [
    "## Introduction\n",
    "\n",
    "Linen is a textile manufactured from flax plant thread. Its main properties include absorbing moisture well, releasing it fast and being a natural insulator. Since it is very hard to weave flax fibers, monitor processing of linens is very important to decrease costs and improve overall quality. Quality control is essential to building a successful business that delivers products that meet or exceed customers' expectations. It also forms the basis of an efficient business that minimizes waste and operates at high levels of productivity.\n",
    "   \n",
    "### Background Information\n",
    "\n",
    "Literature review includes texture processing, however linen processing is mostly unfocused. Texture processing is based on image processing, starting with filtering techniques such as Low Pass Filtering (smoothing), High Pass Filtering (edge detection, sharpening), Directional Filtering and Laplacian Filtering. We have considered and compared many filtering techniques on the image processing literature and decided to apply Gabor Filtering to our assigned images since Gabor Filtering is very successful at detecting defects. \n"
   ]
  },
  {
   "cell_type": "markdown",
   "metadata": {},
   "source": [
    "## Approach\n",
    "We worked with different methods to filter the images after converting to gray scale. Firstly, we applied custom filtering that increases contrast and sharpness. This method has similar logic with median filtering. The second method, Laplace filtering, is used for edge detection. However, this method was not successful to detect defects in some of our images because Laplace Filtering is too sensitive, and it identified some texture as defect. The third method is Vertical Sobel-x filtering. This method only identified vertical defects and does not work well with problematic areas whose texture is distributed in other dimensions. Since these methods did not give the satisfactory results, we decided to apply Gabor Filtering which works well for edge detection and is able to detect defects with different textures. Gabor Filtering is a systematic filter selection scheme which reconstructs the input image from the filtered image. A sinusoidal plane wave has been modulating a 2D Gabor filter which is a Gaussian kernel function in the spatial domain. The corresponding equation of Gabor can be found below.\n",
    "\n",
    "<img src=\"equation.png\">\n",
    "\n",
    "where, x’ = x cos θ + y sin θ and y’ = −x sin θ + y cos θ\n",
    "where, λ is the wavelength of the sinusoidal factor, \n",
    "θ is the direction of the normal to the parallel stripes of a Gabor function, \n",
    "ψ is the phase offset, σ is the sigma of the Gaussian envelope, \n",
    "γ is the spatial aspect ratio and specifies the ellipticity of the cooperation of the Gabor function.\n",
    "\n",
    "The parameters of the Gabor equation, frequency, angle and bandwidth, are chosen for each image separately to detect defects of different types. The values of frequency and bandwidth are chosen by trying different values in order to demonstrate defects well. The angle which is related to orientation of the pattern on image is determined by visual inspection of texture pattern. On the basis of the Gabor equation, Kernel filter is applied to each window by sliding on pixel column each time. The control charts are constructed with the images obtained after Gabor filtering.\n"
   ]
  },
  {
   "cell_type": "markdown",
   "metadata": {},
   "source": [
    "## Results\n",
    "The filter and the corresponding charts generally worked well to detect defects. However, some of the defects were not easy to identify if the pixel values of the defects are too close to the overall mean of the pixel values of the whole image. The other problem this method faces is that the method is too sensitive to detect that parts that are not considered as defect by visual inspection are detect as defects, increasing the type I error, giving false positive results. Nevertheless, these unwanted cases are to be considered negligible and we can conclude that Gabor filtering works well with our images and detecting defects in linen manufacturing.\n"
   ]
  },
  {
   "cell_type": "markdown",
   "metadata": {},
   "source": [
    "## Conclusions and Future Work\n",
    "Gabor Filtering and Control Charts work well to detect defects on linen and is recommended to be used for manufacturing. Other complex filtering methods might also work well, however as we observed in our project sensitivity comes with a price of false positive results. \n",
    "\n",
    "Current rising of the machine learning have affected these type cases. A sophisticated machine learning object detection model would be accurate and beneficial on this project."
   ]
  }
 ],
 "metadata": {
  "kernelspec": {
   "display_name": "Python 3",
   "language": "python",
   "name": "python3"
  },
  "language_info": {
   "codemirror_mode": {
    "name": "ipython",
    "version": 3
   },
   "file_extension": ".py",
   "mimetype": "text/x-python",
   "name": "python",
   "nbconvert_exporter": "python",
   "pygments_lexer": "ipython3",
   "version": "3.6.5"
  }
 },
 "nbformat": 4,
 "nbformat_minor": 2
}
